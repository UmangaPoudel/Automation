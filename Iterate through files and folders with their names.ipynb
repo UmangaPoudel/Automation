{
 "cells": [
  {
   "cell_type": "markdown",
   "metadata": {},
   "source": [
    "We have images inside folders. The images are named as failed or passed. We have to make two new folders for our AI project. Training set and validation set. Inside the training set, we will have two folders, pass or fail. We repeat it for the validation set."
   ]
  },
  {
   "cell_type": "markdown",
   "metadata": {},
   "source": [
    "path = C:\\Users\\poudelu\\Desktop\\EMAI\\MLE_Images"
   ]
  },
  {
   "cell_type": "code",
   "execution_count": null,
   "metadata": {},
   "outputs": [],
   "source": [
    "os.chdir(r'C:\\Users\\poudelu\\Desktop\\EMAI\\MLE_Images')"
   ]
  },
  {
   "cell_type": "markdown",
   "metadata": {},
   "source": [
    "The folders have a lot of png files, many of which have \"Pass\" or \"Fail\" in the picture itself.\n",
    "We want raw pictures and we can differentiate those pictures as pass or fail from their name.\n",
    "The raw files without the pass or fail marking are mostly in the files with 'Large' in their name."
   ]
  },
  {
   "cell_type": "code",
   "execution_count": null,
   "metadata": {},
   "outputs": [],
   "source": [
    "import os\n",
    "import fnmatch #matches the filename\n",
    "import shutil\n",
    "rootdir = r'C:\\Users\\poudelu\\Desktop\\EMAI\\MLE_Images'\n",
    "dest1 = r'C:\\Users\\poudelu\\Desktop\\EMAI\\MLE_Images\\Test\\Fail'\n",
    "dest2 = r'C:\\Users\\poudelu\\Desktop\\EMAI\\MLE_Images\\Test\\Pass'\n",
    "for subdir, dirs, files in os.walk(rootdir):\n",
    "    for file in files:\n",
    "        if file.endswith('.png') and fnmatch.fnmatch(subdir, '*Large*'):\n",
    "            file_path = os.path.join(subdir, file)\n",
    "        else:\n",
    "            continue\n",
    "        with open(file_path, 'r') as f:\n",
    "            try:\n",
    "                if fnmatch.fnmatch(file, '*Failed*'): #like sql. matches string in filename\n",
    "                    shutil.copy(file_path, dest1) #shutil.copy copies filename too.\n",
    "                elif fnmatch.fnmatch(file, '*Passed*'): #like sql. matches string in filename\n",
    "                    shutil.copy(file_path, dest2) #shutil.copy copies filename too.\n",
    "            except:\n",
    "                continue #looks like there are some duplicates, we will skip them."
   ]
  },
  {
   "cell_type": "code",
   "execution_count": null,
   "metadata": {},
   "outputs": [],
   "source": []
  }
 ],
 "metadata": {
  "kernelspec": {
   "display_name": "Python 3",
   "language": "python",
   "name": "python3"
  },
  "language_info": {
   "codemirror_mode": {
    "name": "ipython",
    "version": 3
   },
   "file_extension": ".py",
   "mimetype": "text/x-python",
   "name": "python",
   "nbconvert_exporter": "python",
   "pygments_lexer": "ipython3",
   "version": "3.6.4"
  }
 },
 "nbformat": 4,
 "nbformat_minor": 2
}
